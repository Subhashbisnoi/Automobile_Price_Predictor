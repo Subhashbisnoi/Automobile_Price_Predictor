{
 "cells": [
  {
   "cell_type": "code",
   "execution_count": 72,
   "id": "923ed5b5-fa81-4d69-9f1a-847bdb3269cb",
   "metadata": {
    "id": "923ed5b5-fa81-4d69-9f1a-847bdb3269cb"
   },
   "outputs": [],
   "source": [
    "import pandas as pd\n",
    "import numpy as np"
   ]
  },
  {
   "cell_type": "code",
   "execution_count": 74,
   "id": "0a37ffd5-58e5-4dfc-83ee-52e952c4be30",
   "metadata": {
    "id": "0a37ffd5-58e5-4dfc-83ee-52e952c4be30"
   },
   "outputs": [],
   "source": [
    "bike=pd.read_csv('BikeDetails.csv')"
   ]
  },
  {
   "cell_type": "code",
   "execution_count": 76,
   "id": "dd6d3e00-fb36-475c-994c-1678e084b090",
   "metadata": {
    "colab": {
     "base_uri": "https://localhost:8080/",
     "height": 419
    },
    "id": "dd6d3e00-fb36-475c-994c-1678e084b090",
    "outputId": "1b1d19eb-df3e-4833-c2c7-5d91d88c8c30"
   },
   "outputs": [
    {
     "data": {
      "text/html": [
       "<div>\n",
       "<style scoped>\n",
       "    .dataframe tbody tr th:only-of-type {\n",
       "        vertical-align: middle;\n",
       "    }\n",
       "\n",
       "    .dataframe tbody tr th {\n",
       "        vertical-align: top;\n",
       "    }\n",
       "\n",
       "    .dataframe thead th {\n",
       "        text-align: right;\n",
       "    }\n",
       "</style>\n",
       "<table border=\"1\" class=\"dataframe\">\n",
       "  <thead>\n",
       "    <tr style=\"text-align: right;\">\n",
       "      <th></th>\n",
       "      <th>name</th>\n",
       "      <th>selling_price</th>\n",
       "      <th>year</th>\n",
       "      <th>seller_type</th>\n",
       "      <th>owner</th>\n",
       "      <th>km_driven</th>\n",
       "      <th>ex_showroom_price</th>\n",
       "    </tr>\n",
       "  </thead>\n",
       "  <tbody>\n",
       "    <tr>\n",
       "      <th>0</th>\n",
       "      <td>Royal Enfield Classic 350</td>\n",
       "      <td>175000</td>\n",
       "      <td>2019</td>\n",
       "      <td>Individual</td>\n",
       "      <td>1st owner</td>\n",
       "      <td>350</td>\n",
       "      <td>NaN</td>\n",
       "    </tr>\n",
       "    <tr>\n",
       "      <th>1</th>\n",
       "      <td>Honda Dio</td>\n",
       "      <td>45000</td>\n",
       "      <td>2017</td>\n",
       "      <td>Individual</td>\n",
       "      <td>1st owner</td>\n",
       "      <td>5650</td>\n",
       "      <td>NaN</td>\n",
       "    </tr>\n",
       "    <tr>\n",
       "      <th>2</th>\n",
       "      <td>Royal Enfield Classic Gunmetal Grey</td>\n",
       "      <td>150000</td>\n",
       "      <td>2018</td>\n",
       "      <td>Individual</td>\n",
       "      <td>1st owner</td>\n",
       "      <td>12000</td>\n",
       "      <td>148114.0</td>\n",
       "    </tr>\n",
       "    <tr>\n",
       "      <th>3</th>\n",
       "      <td>Yamaha Fazer FI V 2.0 [2016-2018]</td>\n",
       "      <td>65000</td>\n",
       "      <td>2015</td>\n",
       "      <td>Individual</td>\n",
       "      <td>1st owner</td>\n",
       "      <td>23000</td>\n",
       "      <td>89643.0</td>\n",
       "    </tr>\n",
       "    <tr>\n",
       "      <th>4</th>\n",
       "      <td>Yamaha SZ [2013-2014]</td>\n",
       "      <td>20000</td>\n",
       "      <td>2011</td>\n",
       "      <td>Individual</td>\n",
       "      <td>2nd owner</td>\n",
       "      <td>21000</td>\n",
       "      <td>NaN</td>\n",
       "    </tr>\n",
       "    <tr>\n",
       "      <th>...</th>\n",
       "      <td>...</td>\n",
       "      <td>...</td>\n",
       "      <td>...</td>\n",
       "      <td>...</td>\n",
       "      <td>...</td>\n",
       "      <td>...</td>\n",
       "      <td>...</td>\n",
       "    </tr>\n",
       "    <tr>\n",
       "      <th>1056</th>\n",
       "      <td>Activa 3g</td>\n",
       "      <td>17000</td>\n",
       "      <td>2010</td>\n",
       "      <td>Individual</td>\n",
       "      <td>1st owner</td>\n",
       "      <td>500000</td>\n",
       "      <td>52000.0</td>\n",
       "    </tr>\n",
       "    <tr>\n",
       "      <th>1057</th>\n",
       "      <td>Honda CB twister</td>\n",
       "      <td>16000</td>\n",
       "      <td>2012</td>\n",
       "      <td>Individual</td>\n",
       "      <td>1st owner</td>\n",
       "      <td>33000</td>\n",
       "      <td>51000.0</td>\n",
       "    </tr>\n",
       "    <tr>\n",
       "      <th>1058</th>\n",
       "      <td>Bajaj Discover 125</td>\n",
       "      <td>15000</td>\n",
       "      <td>2013</td>\n",
       "      <td>Individual</td>\n",
       "      <td>2nd owner</td>\n",
       "      <td>35000</td>\n",
       "      <td>57000.0</td>\n",
       "    </tr>\n",
       "    <tr>\n",
       "      <th>1059</th>\n",
       "      <td>Honda CB Shine</td>\n",
       "      <td>12000</td>\n",
       "      <td>2009</td>\n",
       "      <td>Individual</td>\n",
       "      <td>1st owner</td>\n",
       "      <td>53000</td>\n",
       "      <td>58000.0</td>\n",
       "    </tr>\n",
       "    <tr>\n",
       "      <th>1060</th>\n",
       "      <td>Bajaj Pulsar 150</td>\n",
       "      <td>10000</td>\n",
       "      <td>2008</td>\n",
       "      <td>Individual</td>\n",
       "      <td>1st owner</td>\n",
       "      <td>92233</td>\n",
       "      <td>75000.0</td>\n",
       "    </tr>\n",
       "  </tbody>\n",
       "</table>\n",
       "<p>1061 rows × 7 columns</p>\n",
       "</div>"
      ],
      "text/plain": [
       "                                     name  selling_price  year seller_type  \\\n",
       "0               Royal Enfield Classic 350         175000  2019  Individual   \n",
       "1                               Honda Dio          45000  2017  Individual   \n",
       "2     Royal Enfield Classic Gunmetal Grey         150000  2018  Individual   \n",
       "3       Yamaha Fazer FI V 2.0 [2016-2018]          65000  2015  Individual   \n",
       "4                   Yamaha SZ [2013-2014]          20000  2011  Individual   \n",
       "...                                   ...            ...   ...         ...   \n",
       "1056                            Activa 3g          17000  2010  Individual   \n",
       "1057                     Honda CB twister          16000  2012  Individual   \n",
       "1058                   Bajaj Discover 125          15000  2013  Individual   \n",
       "1059                       Honda CB Shine          12000  2009  Individual   \n",
       "1060                     Bajaj Pulsar 150          10000  2008  Individual   \n",
       "\n",
       "          owner  km_driven  ex_showroom_price  \n",
       "0     1st owner        350                NaN  \n",
       "1     1st owner       5650                NaN  \n",
       "2     1st owner      12000           148114.0  \n",
       "3     1st owner      23000            89643.0  \n",
       "4     2nd owner      21000                NaN  \n",
       "...         ...        ...                ...  \n",
       "1056  1st owner     500000            52000.0  \n",
       "1057  1st owner      33000            51000.0  \n",
       "1058  2nd owner      35000            57000.0  \n",
       "1059  1st owner      53000            58000.0  \n",
       "1060  1st owner      92233            75000.0  \n",
       "\n",
       "[1061 rows x 7 columns]"
      ]
     },
     "execution_count": 76,
     "metadata": {},
     "output_type": "execute_result"
    }
   ],
   "source": [
    "bike"
   ]
  },
  {
   "cell_type": "code",
   "execution_count": 78,
   "id": "f8e94a87-f860-46b6-995b-d26ca270299c",
   "metadata": {
    "id": "f8e94a87-f860-46b6-995b-d26ca270299c"
   },
   "outputs": [],
   "source": [
    "bike.drop(columns=['ex_showroom_price', 'owner','seller_type'], inplace=True)"
   ]
  },
  {
   "cell_type": "code",
   "execution_count": 80,
   "id": "13b4d0bb-b501-449e-83a5-f4e6ee310da4",
   "metadata": {
    "colab": {
     "base_uri": "https://localhost:8080/",
     "height": 672
    },
    "id": "13b4d0bb-b501-449e-83a5-f4e6ee310da4",
    "outputId": "178e173d-8a2c-4062-f1cd-894fae06454f"
   },
   "outputs": [
    {
     "data": {
      "text/html": [
       "<div>\n",
       "<style scoped>\n",
       "    .dataframe tbody tr th:only-of-type {\n",
       "        vertical-align: middle;\n",
       "    }\n",
       "\n",
       "    .dataframe tbody tr th {\n",
       "        vertical-align: top;\n",
       "    }\n",
       "\n",
       "    .dataframe thead th {\n",
       "        text-align: right;\n",
       "    }\n",
       "</style>\n",
       "<table border=\"1\" class=\"dataframe\">\n",
       "  <thead>\n",
       "    <tr style=\"text-align: right;\">\n",
       "      <th></th>\n",
       "      <th>name</th>\n",
       "      <th>selling_price</th>\n",
       "      <th>year</th>\n",
       "      <th>km_driven</th>\n",
       "    </tr>\n",
       "  </thead>\n",
       "  <tbody>\n",
       "    <tr>\n",
       "      <th>0</th>\n",
       "      <td>Royal Enfield Classic 350</td>\n",
       "      <td>175000</td>\n",
       "      <td>2019</td>\n",
       "      <td>350</td>\n",
       "    </tr>\n",
       "    <tr>\n",
       "      <th>1</th>\n",
       "      <td>Honda Dio</td>\n",
       "      <td>45000</td>\n",
       "      <td>2017</td>\n",
       "      <td>5650</td>\n",
       "    </tr>\n",
       "    <tr>\n",
       "      <th>2</th>\n",
       "      <td>Royal Enfield Classic Gunmetal Grey</td>\n",
       "      <td>150000</td>\n",
       "      <td>2018</td>\n",
       "      <td>12000</td>\n",
       "    </tr>\n",
       "    <tr>\n",
       "      <th>3</th>\n",
       "      <td>Yamaha Fazer FI V 2.0 [2016-2018]</td>\n",
       "      <td>65000</td>\n",
       "      <td>2015</td>\n",
       "      <td>23000</td>\n",
       "    </tr>\n",
       "    <tr>\n",
       "      <th>4</th>\n",
       "      <td>Yamaha SZ [2013-2014]</td>\n",
       "      <td>20000</td>\n",
       "      <td>2011</td>\n",
       "      <td>21000</td>\n",
       "    </tr>\n",
       "    <tr>\n",
       "      <th>...</th>\n",
       "      <td>...</td>\n",
       "      <td>...</td>\n",
       "      <td>...</td>\n",
       "      <td>...</td>\n",
       "    </tr>\n",
       "    <tr>\n",
       "      <th>1056</th>\n",
       "      <td>Activa 3g</td>\n",
       "      <td>17000</td>\n",
       "      <td>2010</td>\n",
       "      <td>500000</td>\n",
       "    </tr>\n",
       "    <tr>\n",
       "      <th>1057</th>\n",
       "      <td>Honda CB twister</td>\n",
       "      <td>16000</td>\n",
       "      <td>2012</td>\n",
       "      <td>33000</td>\n",
       "    </tr>\n",
       "    <tr>\n",
       "      <th>1058</th>\n",
       "      <td>Bajaj Discover 125</td>\n",
       "      <td>15000</td>\n",
       "      <td>2013</td>\n",
       "      <td>35000</td>\n",
       "    </tr>\n",
       "    <tr>\n",
       "      <th>1059</th>\n",
       "      <td>Honda CB Shine</td>\n",
       "      <td>12000</td>\n",
       "      <td>2009</td>\n",
       "      <td>53000</td>\n",
       "    </tr>\n",
       "    <tr>\n",
       "      <th>1060</th>\n",
       "      <td>Bajaj Pulsar 150</td>\n",
       "      <td>10000</td>\n",
       "      <td>2008</td>\n",
       "      <td>92233</td>\n",
       "    </tr>\n",
       "  </tbody>\n",
       "</table>\n",
       "<p>1061 rows × 4 columns</p>\n",
       "</div>"
      ],
      "text/plain": [
       "                                     name  selling_price  year  km_driven\n",
       "0               Royal Enfield Classic 350         175000  2019        350\n",
       "1                               Honda Dio          45000  2017       5650\n",
       "2     Royal Enfield Classic Gunmetal Grey         150000  2018      12000\n",
       "3       Yamaha Fazer FI V 2.0 [2016-2018]          65000  2015      23000\n",
       "4                   Yamaha SZ [2013-2014]          20000  2011      21000\n",
       "...                                   ...            ...   ...        ...\n",
       "1056                            Activa 3g          17000  2010     500000\n",
       "1057                     Honda CB twister          16000  2012      33000\n",
       "1058                   Bajaj Discover 125          15000  2013      35000\n",
       "1059                       Honda CB Shine          12000  2009      53000\n",
       "1060                     Bajaj Pulsar 150          10000  2008      92233\n",
       "\n",
       "[1061 rows x 4 columns]"
      ]
     },
     "execution_count": 80,
     "metadata": {},
     "output_type": "execute_result"
    }
   ],
   "source": [
    "bike"
   ]
  },
  {
   "cell_type": "code",
   "execution_count": 82,
   "id": "9442a174-0623-43ae-b9cc-125e52b6abab",
   "metadata": {
    "colab": {
     "base_uri": "https://localhost:8080/"
    },
    "id": "9442a174-0623-43ae-b9cc-125e52b6abab",
    "outputId": "d3bdb41b-d711-462b-d7fb-839d9912109d"
   },
   "outputs": [
    {
     "data": {
      "text/plain": [
       "array([2019, 2017, 2018, 2015, 2011, 2010, 2008, 2016, 2020, 2012, 2006,\n",
       "       2013, 2009, 2014, 2004, 2007, 2000, 2002, 2005, 1997, 2001, 1988,\n",
       "       1999, 1998, 1991, 2003, 1993, 1995])"
      ]
     },
     "execution_count": 82,
     "metadata": {},
     "output_type": "execute_result"
    }
   ],
   "source": [
    "bike['year'].unique()"
   ]
  },
  {
   "cell_type": "code",
   "execution_count": 84,
   "id": "46c48d37-2015-4a2c-bd40-e770fda970ec",
   "metadata": {
    "colab": {
     "base_uri": "https://localhost:8080/"
    },
    "id": "46c48d37-2015-4a2c-bd40-e770fda970ec",
    "outputId": "b5970a02-d278-480d-bbdb-10b9989e0577"
   },
   "outputs": [
    {
     "data": {
      "text/plain": [
       "array([175000,  45000, 150000,  65000,  20000,  18000,  78500, 180000,\n",
       "        30000,  50000,  35000,  28000,  80000, 365000, 185000,  25000,\n",
       "        40000, 120000,  15000,  26000,  32000, 110000,  42000,  21000,\n",
       "        55000,  38000,  43000,  62000,  60000,  90000, 125000,  85000,\n",
       "        29900,  70000,  48000,  34000, 165000,  29500,  95000,   7500,\n",
       "       160000, 140000,  22000,  22989,  24999,  75000,  17500,  57000,\n",
       "        83900, 135000, 299000, 750000, 190000, 130000,  54786,  72000,\n",
       "       100000, 138000, 170000, 123000,  23000,  41000,  47999,  36999,\n",
       "        12000,  27000,  10000,  56000,  58000,  87000, 145000,   9000,\n",
       "        14000,  17000, 210000,  54000, 260000,  98000, 200000, 195000,\n",
       "       270000, 425000, 760000,  37000, 330000, 162000, 285000,  69000,\n",
       "       300000,  26500,  78000,   8000,  39000,  36000,  16000,  83299,\n",
       "        14700,  19000,  14900,  24000,  24700,  52000,  47000, 105000,\n",
       "       115000,   5000,  86000,  28700,   6000,  23500,  68000,  20100,\n",
       "        14500,  46000,  30900,  89999,  17600,  51000,  74000,  85009,\n",
       "        16600,  99000,  77000,  76000, 119000,  59000, 205000,  25500,\n",
       "       111000,  31000])"
      ]
     },
     "execution_count": 84,
     "metadata": {},
     "output_type": "execute_result"
    }
   ],
   "source": [
    "bike['selling_price'].unique()"
   ]
  },
  {
   "cell_type": "code",
   "execution_count": 86,
   "id": "4ea187f5-cbf2-4957-a3ae-e65a5214c084",
   "metadata": {
    "colab": {
     "base_uri": "https://localhost:8080/"
    },
    "id": "4ea187f5-cbf2-4957-a3ae-e65a5214c084",
    "outputId": "a3eb73a4-6d25-4e4f-bd2a-1157641cee45"
   },
   "outputs": [
    {
     "data": {
      "text/plain": [
       "array([   350,   5650,  12000,  23000,  21000,  60000,  17000,  39000,\n",
       "        32000,  42000,  10000,  21178,   1127,   1700,  55000,  27000,\n",
       "        45000,  17450,  20696,   2000,  20000,  35000,  15210,  24000,\n",
       "         2500,  75000,  50000,   6502,  16000,  13000,  12800,   4600,\n",
       "        81000,   8000,  57000,  26000,  29000,  43000,  40000,   3000,\n",
       "        80000,  30000,  41000,   8150,   1933,  55750,  15856,   3700,\n",
       "        21938,  48000,  54000,  15000,   3500,   9000,  38000,  22000,\n",
       "         9432,  70000, 500000,  30514, 130000,  25000,  22770,   6330,\n",
       "          500,  43400,   7004,  16500,  12500,   9600,  11000,   7500,\n",
       "       120000,   6465,  18803,   7000,   6100,  14000,  85000,  18000,\n",
       "         1500,  90000,  36500,  49000,   8500,   3775,  14500,   4000,\n",
       "        99000,  52000,   2300,  36000,  71000,  15888,   5600,  19612,\n",
       "        33700, 100000,   6000,  46000,  72000,  67000,  15500,  60855,\n",
       "        37714,  34601,  44000,  17500,   6500,   2200,  66191,  32800,\n",
       "         3900,  46782,  51000,  66000,  23500,  33000,  70350,   2700,\n",
       "        41311,  65000,  34000,   1200,  19000,   8600,   7200,  31195,\n",
       "         1000,  77592,   7600,  14965,   2380,  13600,  18600,   7750,\n",
       "         2800,   9800,  29689,  28243,  22300,  33595,   5505,   5000,\n",
       "        17365,   5500,  33900,  47670,   5700,  22866,  31000,   1600,\n",
       "        77000,  56000,  11500,  20477,  35700,  37000,   3246,   4050,\n",
       "        33200, 646000,   3909,   7672,   3654,  29950,  26100,   5475,\n",
       "        20500,   4100,  23097,  37734,  13500,  58000,  45137,  35600,\n",
       "         7353,  13200,  38350,  20400,  19500,   4500,  70889,  13125,\n",
       "        19600,  19055,  28087,  24600,  27500,  61000,   6400,   6409,\n",
       "        26600,  58203,  21885,   3200,  28000,   1800,  76000,  52500,\n",
       "         2845,   7110,  27785,  14600,  95000,  49637,   5326, 585659,\n",
       "        37541,  73000,  16295,  59000,   9500,   2900,  39500,  29500,\n",
       "        10500,  20350,  28563,  21121,  11800,  16145,  49876,   1300,\n",
       "        86000, 340000, 101000,  57700,   8800,  68000,   8200,  47000,\n",
       "         5555,  98000,  71250,  82000, 880000,  15100,  12652,  13800,\n",
       "        16008,    380,  93000,  29442,  12657,  69000,  11200,  56420,\n",
       "        18345,   3025, 240000,  45354,  18860,  38500,   9556,  14100,\n",
       "        29625,  53500,  39448,  62000,  49999,  27370,   8900, 345000,\n",
       "        12566,   1400,  14289,  28450,  31500,  17860,  10950,  35850,\n",
       "        45420,  19800,  34300,   7199,   9999,   2009,  12077, 450000,\n",
       "         5814,   7850,  46700,  46070, 127000,  63000,  89000,  34500,\n",
       "        28990,  35280,  21700,   8700,   5400,   6900,  46500,  16600,\n",
       "         4300,   6700,  13700,  38600, 213000,   1900,  53000,  92233])"
      ]
     },
     "execution_count": 86,
     "metadata": {},
     "output_type": "execute_result"
    }
   ],
   "source": [
    "\n",
    "bike['km_driven'].unique()"
   ]
  },
  {
   "cell_type": "code",
   "execution_count": 88,
   "id": "e822f4a2-ad79-465b-a2a4-f1379fee1122",
   "metadata": {
    "id": "e822f4a2-ad79-465b-a2a4-f1379fee1122"
   },
   "outputs": [],
   "source": [
    "bike['name']=bike['name'].str.split(' ').str.slice(0,3).str.join(' ')"
   ]
  },
  {
   "cell_type": "code",
   "execution_count": 90,
   "id": "cf31efda-e329-4ea4-a95a-ea91fa4ebac7",
   "metadata": {
    "colab": {
     "base_uri": "https://localhost:8080/",
     "height": 419
    },
    "id": "cf31efda-e329-4ea4-a95a-ea91fa4ebac7",
    "outputId": "568446bf-41a1-40d5-8304-ed981405f3e8"
   },
   "outputs": [
    {
     "data": {
      "text/html": [
       "<div>\n",
       "<style scoped>\n",
       "    .dataframe tbody tr th:only-of-type {\n",
       "        vertical-align: middle;\n",
       "    }\n",
       "\n",
       "    .dataframe tbody tr th {\n",
       "        vertical-align: top;\n",
       "    }\n",
       "\n",
       "    .dataframe thead th {\n",
       "        text-align: right;\n",
       "    }\n",
       "</style>\n",
       "<table border=\"1\" class=\"dataframe\">\n",
       "  <thead>\n",
       "    <tr style=\"text-align: right;\">\n",
       "      <th></th>\n",
       "      <th>name</th>\n",
       "      <th>selling_price</th>\n",
       "      <th>year</th>\n",
       "      <th>km_driven</th>\n",
       "    </tr>\n",
       "  </thead>\n",
       "  <tbody>\n",
       "    <tr>\n",
       "      <th>0</th>\n",
       "      <td>Royal Enfield Classic</td>\n",
       "      <td>175000</td>\n",
       "      <td>2019</td>\n",
       "      <td>350</td>\n",
       "    </tr>\n",
       "    <tr>\n",
       "      <th>1</th>\n",
       "      <td>Honda Dio</td>\n",
       "      <td>45000</td>\n",
       "      <td>2017</td>\n",
       "      <td>5650</td>\n",
       "    </tr>\n",
       "    <tr>\n",
       "      <th>2</th>\n",
       "      <td>Royal Enfield Classic</td>\n",
       "      <td>150000</td>\n",
       "      <td>2018</td>\n",
       "      <td>12000</td>\n",
       "    </tr>\n",
       "    <tr>\n",
       "      <th>3</th>\n",
       "      <td>Yamaha Fazer FI</td>\n",
       "      <td>65000</td>\n",
       "      <td>2015</td>\n",
       "      <td>23000</td>\n",
       "    </tr>\n",
       "    <tr>\n",
       "      <th>4</th>\n",
       "      <td>Yamaha SZ [2013-2014]</td>\n",
       "      <td>20000</td>\n",
       "      <td>2011</td>\n",
       "      <td>21000</td>\n",
       "    </tr>\n",
       "    <tr>\n",
       "      <th>...</th>\n",
       "      <td>...</td>\n",
       "      <td>...</td>\n",
       "      <td>...</td>\n",
       "      <td>...</td>\n",
       "    </tr>\n",
       "    <tr>\n",
       "      <th>1056</th>\n",
       "      <td>Activa 3g</td>\n",
       "      <td>17000</td>\n",
       "      <td>2010</td>\n",
       "      <td>500000</td>\n",
       "    </tr>\n",
       "    <tr>\n",
       "      <th>1057</th>\n",
       "      <td>Honda CB twister</td>\n",
       "      <td>16000</td>\n",
       "      <td>2012</td>\n",
       "      <td>33000</td>\n",
       "    </tr>\n",
       "    <tr>\n",
       "      <th>1058</th>\n",
       "      <td>Bajaj Discover 125</td>\n",
       "      <td>15000</td>\n",
       "      <td>2013</td>\n",
       "      <td>35000</td>\n",
       "    </tr>\n",
       "    <tr>\n",
       "      <th>1059</th>\n",
       "      <td>Honda CB Shine</td>\n",
       "      <td>12000</td>\n",
       "      <td>2009</td>\n",
       "      <td>53000</td>\n",
       "    </tr>\n",
       "    <tr>\n",
       "      <th>1060</th>\n",
       "      <td>Bajaj Pulsar 150</td>\n",
       "      <td>10000</td>\n",
       "      <td>2008</td>\n",
       "      <td>92233</td>\n",
       "    </tr>\n",
       "  </tbody>\n",
       "</table>\n",
       "<p>1061 rows × 4 columns</p>\n",
       "</div>"
      ],
      "text/plain": [
       "                       name  selling_price  year  km_driven\n",
       "0     Royal Enfield Classic         175000  2019        350\n",
       "1                 Honda Dio          45000  2017       5650\n",
       "2     Royal Enfield Classic         150000  2018      12000\n",
       "3           Yamaha Fazer FI          65000  2015      23000\n",
       "4     Yamaha SZ [2013-2014]          20000  2011      21000\n",
       "...                     ...            ...   ...        ...\n",
       "1056              Activa 3g          17000  2010     500000\n",
       "1057       Honda CB twister          16000  2012      33000\n",
       "1058     Bajaj Discover 125          15000  2013      35000\n",
       "1059         Honda CB Shine          12000  2009      53000\n",
       "1060       Bajaj Pulsar 150          10000  2008      92233\n",
       "\n",
       "[1061 rows x 4 columns]"
      ]
     },
     "execution_count": 90,
     "metadata": {},
     "output_type": "execute_result"
    }
   ],
   "source": [
    "bike"
   ]
  },
  {
   "cell_type": "code",
   "execution_count": 105,
   "id": "abcdf058-4104-4daa-86e9-06c79caa1cec",
   "metadata": {},
   "outputs": [],
   "source": [
    "bike['year'] = bike['year'] + 2"
   ]
  },
  {
   "cell_type": "code",
   "execution_count": 107,
   "id": "3ec46366-ad4b-498d-b4a8-10051d95a034",
   "metadata": {
    "id": "3ec46366-ad4b-498d-b4a8-10051d95a034"
   },
   "outputs": [],
   "source": [
    "bike.to_csv('Cleaned_bike.csv')"
   ]
  },
  {
   "cell_type": "code",
   "execution_count": null,
   "id": "5557e818-0e2b-4a2c-bf1c-adb4a0849ecc",
   "metadata": {
    "colab": {
     "base_uri": "https://localhost:8080/"
    },
    "id": "5557e818-0e2b-4a2c-bf1c-adb4a0849ecc",
    "outputId": "1487add6-94f4-4f58-91c4-b2fea8822be1"
   },
   "outputs": [],
   "source": []
  },
  {
   "cell_type": "code",
   "execution_count": 110,
   "id": "KZVYe1Kch0dc",
   "metadata": {
    "colab": {
     "base_uri": "https://localhost:8080/"
    },
    "id": "KZVYe1Kch0dc",
    "outputId": "87b0d16d-c136-4596-cd26-bc1b8ddacf8f"
   },
   "outputs": [
    {
     "name": "stdout",
     "output_type": "stream",
     "text": [
      "R-squared score: 0.7514138842416163\n"
     ]
    }
   ],
   "source": [
    "import pandas as pd\n",
    "from sklearn.model_selection import train_test_split\n",
    "from sklearn.linear_model import LinearRegression\n",
    "from sklearn.metrics import r2_score\n",
    "from sklearn.preprocessing import StandardScaler, OneHotEncoder\n",
    "from sklearn.compose import ColumnTransformer\n",
    "from sklearn.pipeline import Pipeline\n",
    "bike = pd.read_csv('Cleaned_bike.csv')\n",
    "X = bike.drop(['selling_price', 'Unnamed: 0'], axis=1)\n",
    "y = bike['selling_price']\n",
    "numerical_features = ['km_driven', 'year']\n",
    "categorical_features = ['name']\n",
    "numerical_transformer = StandardScaler()\n",
    "categorical_transformer = OneHotEncoder(handle_unknown='ignore')\n",
    "preprocessor = ColumnTransformer(\n",
    "    transformers=[\n",
    "        ('num', numerical_transformer, numerical_features),\n",
    "        ('cat', categorical_transformer, categorical_features)\n",
    "    ])\n",
    "pipeline = Pipeline(steps=[('preprocessor', preprocessor),\n",
    "                           ('regressor', LinearRegression())])\n",
    "X_train, X_test, y_train, y_test = train_test_split(X, y, test_size=0.2, random_state=42)\n",
    "pipeline.fit(X_train, y_train)\n",
    "y_pred = pipeline.predict(X_test)\n",
    "r2 = r2_score(y_test, y_pred)\n",
    "print(f\"R-squared score: {r2}\")"
   ]
  },
  {
   "cell_type": "code",
   "execution_count": 112,
   "id": "VxH_UM-AiEdk",
   "metadata": {
    "id": "VxH_UM-AiEdk"
   },
   "outputs": [
    {
     "data": {
      "text/plain": [
       "0.7514138842416163"
      ]
     },
     "execution_count": 112,
     "metadata": {},
     "output_type": "execute_result"
    }
   ],
   "source": [
    "scores=[]\n",
    "for i in range(1000):\n",
    "    X_train, X_test, y_train, y_test = train_test_split(X, y, test_size=0.2, random_state=42)\n",
    "    pipeline.fit(X_train, y_train)\n",
    "    y_pred = pipeline.predict(X_test)\n",
    "    r2 = r2_score(y_test, y_pred)\n",
    "    scores.append(r2)\n",
    "scores[np.argmax(scores)]"
   ]
  },
  {
   "cell_type": "code",
   "execution_count": 113,
   "id": "db03dd49-21b5-4526-975e-f311f93d2734",
   "metadata": {},
   "outputs": [],
   "source": [
    "import pickle"
   ]
  },
  {
   "cell_type": "code",
   "execution_count": 114,
   "id": "3be772fd-5d38-4947-9843-506359bdf3a6",
   "metadata": {},
   "outputs": [],
   "source": [
    "pickle.dump(pipeline,open('LinearRegressionModel_Bike.pkl','wb'))"
   ]
  },
  {
   "cell_type": "code",
   "execution_count": null,
   "id": "7990ca3b-b744-4075-b872-b0b1db47e29f",
   "metadata": {},
   "outputs": [],
   "source": []
  }
 ],
 "metadata": {
  "colab": {
   "provenance": []
  },
  "kernelspec": {
   "display_name": "Python 3 (ipykernel)",
   "language": "python",
   "name": "python3"
  },
  "language_info": {
   "codemirror_mode": {
    "name": "ipython",
    "version": 3
   },
   "file_extension": ".py",
   "mimetype": "text/x-python",
   "name": "python",
   "nbconvert_exporter": "python",
   "pygments_lexer": "ipython3",
   "version": "3.12.4"
  }
 },
 "nbformat": 4,
 "nbformat_minor": 5
}
